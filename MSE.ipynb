{
 "cells": [
  {
   "cell_type": "code",
   "execution_count": 3,
   "id": "1f82839f",
   "metadata": {},
   "outputs": [],
   "source": [
    "#notebook for mean - squared error"
   ]
  },
  {
   "cell_type": "code",
   "execution_count": 21,
   "id": "7e85fd10",
   "metadata": {},
   "outputs": [],
   "source": [
    "import numpy as np\n",
    "import random"
   ]
  },
  {
   "cell_type": "code",
   "execution_count": 25,
   "id": "a0c9d83e",
   "metadata": {},
   "outputs": [
    {
     "name": "stdout",
     "output_type": "stream",
     "text": [
      "31780.0\n"
     ]
    }
   ],
   "source": [
    "#create random number list \n",
    "#actual\n",
    "xrandom=random.sample(range(-100,100),6)\n",
    "#predicted\n",
    "yrandom=random.sample(range(-200,200),6)\n",
    "#calculate mse\n",
    "mse=(np.sum(np.square(np.subtract(xrandom,yrandom))))/len(yrandom)\n",
    "print(mse)"
   ]
  }
 ],
 "metadata": {
  "kernelspec": {
   "display_name": "Python 3 (ipykernel)",
   "language": "python",
   "name": "python3"
  },
  "language_info": {
   "codemirror_mode": {
    "name": "ipython",
    "version": 3
   },
   "file_extension": ".py",
   "mimetype": "text/x-python",
   "name": "python",
   "nbconvert_exporter": "python",
   "pygments_lexer": "ipython3",
   "version": "3.9.13"
  }
 },
 "nbformat": 4,
 "nbformat_minor": 5
}
